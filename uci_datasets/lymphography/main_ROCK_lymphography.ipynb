{
 "cells": [
  {
   "cell_type": "code",
   "execution_count": 1,
   "metadata": {},
   "outputs": [],
   "source": [
    "from rock_algorithm import RockAlgorithm\n",
    "from data_point import DataPoint\n",
    "import pandas as pd"
   ]
  },
  {
   "cell_type": "code",
   "execution_count": 2,
   "metadata": {},
   "outputs": [],
   "source": [
    "dataset = 'soybean-small'\n",
    "output_dir = '/home/pierre/Dropbox/repos/0_global_results/ROCK_cluster_ml/'"
   ]
  },
  {
   "cell_type": "code",
   "execution_count": 3,
   "metadata": {},
   "outputs": [],
   "source": [
    "data = pd.read_csv('/home/pierre/Dropbox/repos/0_global_data/mari_FF/'+dataset+'/'+dataset+'.csv')\n",
    "header=data.columns.values\n",
    "for column in header:\n",
    "    categories=data[column].unique()\n",
    "    n_categories=len(categories)\n",
    "\n",
    "    if len(categories) < 2:\n",
    "        del data[column]\n",
    "data=data.iloc[:, list(data.columns.values).index('index')+1:list(data.columns.values).index('class')]"
   ]
  },
  {
   "cell_type": "code",
   "execution_count": 4,
   "metadata": {},
   "outputs": [],
   "source": [
    "# Transforming all data entries into vector\n",
    "dps = []\n",
    "for i in range(len(data.index)):\n",
    "    data_v = data.iloc[i].tolist()\n",
    "    dps.append(DataPoint(i, data_v))"
   ]
  },
  {
   "cell_type": "code",
   "execution_count": 5,
   "metadata": {},
   "outputs": [],
   "source": [
    "rock = RockAlgorithm(dps,1,0.2)\n",
    "dnd = rock.cluster()"
   ]
  },
  {
   "cell_type": "code",
   "execution_count": 6,
   "metadata": {},
   "outputs": [],
   "source": [
    "# creating an empty membership dataframe\n",
    "index = range(len(dps))\n",
    "iterations = range(len(dnd.entry_map))\n",
    "df = pd.DataFrame(index=index, columns=iterations)\n",
    "df.fillna(0, inplace=True)"
   ]
  },
  {
   "cell_type": "code",
   "execution_count": 7,
   "metadata": {},
   "outputs": [],
   "source": [
    "# filling the dataframe with the membership info\n",
    "# for each iteration\n",
    "\n",
    "iterations = list(dnd.entry_map)\n",
    "\n",
    "for it in range(len(iterations)):\n",
    "    all_clusters = list(iterations[it].get_all_clusters())\n",
    "    clusters_id = range(len(all_clusters))\n",
    "    for cluster in clusters_id:\n",
    "        data_points = all_clusters[cluster].get_data_points()\n",
    "        for index in data_points:\n",
    "            df.loc[[index],[it]] = cluster        "
   ]
  },
  {
   "cell_type": "code",
   "execution_count": 8,
   "metadata": {},
   "outputs": [],
   "source": [
    "df.to_csv(output_dir + 'membership_'+ dataset +'.csv', header=True)"
   ]
  },
  {
   "cell_type": "code",
   "execution_count": null,
   "metadata": {},
   "outputs": [],
   "source": []
  }
 ],
 "metadata": {
  "kernelspec": {
   "display_name": "Python 2",
   "language": "python",
   "name": "python2"
  },
  "language_info": {
   "codemirror_mode": {
    "name": "ipython",
    "version": 2
   },
   "file_extension": ".py",
   "mimetype": "text/x-python",
   "name": "python",
   "nbconvert_exporter": "python",
   "pygments_lexer": "ipython2",
   "version": "2.7.16"
  }
 },
 "nbformat": 4,
 "nbformat_minor": 2
}
